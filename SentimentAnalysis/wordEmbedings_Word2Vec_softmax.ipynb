{
 "cells": [
  {
   "cell_type": "code",
   "execution_count": 34,
   "metadata": {},
   "outputs": [],
   "source": [
    "from __future__ import absolute_import\n",
    "from __future__ import division\n",
    "from __future__ import print_function"
   ]
  },
  {
   "cell_type": "code",
   "execution_count": 35,
   "metadata": {},
   "outputs": [],
   "source": [
    "import collections\n",
    "import math\n",
    "import os\n",
    "import random \n",
    "import zipfile"
   ]
  },
  {
   "cell_type": "code",
   "execution_count": 36,
   "metadata": {},
   "outputs": [],
   "source": [
    "from six.moves import urllib\n",
    "from six.moves import xrange"
   ]
  },
  {
   "cell_type": "code",
   "execution_count": 37,
   "metadata": {},
   "outputs": [],
   "source": [
    "import numpy as np\n",
    "import tensorflow as tf"
   ]
  },
  {
   "cell_type": "code",
   "execution_count": 38,
   "metadata": {},
   "outputs": [
    {
     "name": "stdout",
     "output_type": "stream",
     "text": [
      "1.18.1\n",
      "2.1.0\n"
     ]
    }
   ],
   "source": [
    "print(np.__version__)\n",
    "print(tf.__version__)"
   ]
  },
  {
   "cell_type": "code",
   "execution_count": 39,
   "metadata": {},
   "outputs": [],
   "source": [
    "Downloaded_Filename = 'WordEmbeddingData.zip'\n",
    "\n",
    "def maybe_download(url_path, expected_bytes):\n",
    "    if not os.path.exists(Downloaded_Filename):\n",
    "        filename, _ = urllib.request.urlretrieve(url_path, Downloaded_Filename)\n",
    "        \n",
    "        statinfo = os.stat(Downloaded_Filename)\n",
    "        if statinfo.st_size == expected_bytes:\n",
    "            print('Found and verified file from this path: ', url_path)\n",
    "            print('Downloaded file: ', Downloaded_Filename)\n",
    "        else:\n",
    "            print(statinfo.st_size)\n",
    "            raise Exception(\n",
    "            'failed to verify file from: ' + url_path + '. Can you get to it with a browser?')\n",
    "        "
   ]
  },
  {
   "cell_type": "code",
   "execution_count": 49,
   "metadata": {},
   "outputs": [],
   "source": [
    "def read_words():\n",
    "    with zipfile.ZipFile(Downloaded_Filename) as f:\n",
    "        firstfile = f.namelist()[0]\n",
    "        filestring = tf.compat.as_str(f.read(firstfile))\n",
    "        words = filestring.split()\n",
    "        \n",
    "    return words"
   ]
  },
  {
   "cell_type": "code",
   "execution_count": 50,
   "metadata": {},
   "outputs": [],
   "source": [
    "URL_PATH = 'http://mattmahoney.net/dc/text8.zip'\n",
    "FILESIZE = 31344016\n",
    "\n",
    "maybe_download(URL_PATH, FILESIZE)"
   ]
  },
  {
   "cell_type": "code",
   "execution_count": 51,
   "metadata": {},
   "outputs": [],
   "source": [
    "vocabulary = read_words()"
   ]
  },
  {
   "cell_type": "code",
   "execution_count": 52,
   "metadata": {},
   "outputs": [
    {
     "data": {
      "text/plain": [
       "17005207"
      ]
     },
     "execution_count": 52,
     "metadata": {},
     "output_type": "execute_result"
    }
   ],
   "source": [
    "len(vocabulary)"
   ]
  },
  {
   "cell_type": "code",
   "execution_count": 54,
   "metadata": {},
   "outputs": [
    {
     "data": {
      "text/plain": [
       "['anarchism',\n",
       " 'originated',\n",
       " 'as',\n",
       " 'a',\n",
       " 'term',\n",
       " 'of',\n",
       " 'abuse',\n",
       " 'first',\n",
       " 'used',\n",
       " 'against',\n",
       " 'early',\n",
       " 'working',\n",
       " 'class',\n",
       " 'radicals',\n",
       " 'including',\n",
       " 'the',\n",
       " 'diggers',\n",
       " 'of',\n",
       " 'the',\n",
       " 'english',\n",
       " 'revolution',\n",
       " 'and',\n",
       " 'the',\n",
       " 'sans',\n",
       " 'culottes']"
      ]
     },
     "execution_count": 54,
     "metadata": {},
     "output_type": "execute_result"
    }
   ],
   "source": [
    "vocabulary[:25]"
   ]
  },
  {
   "cell_type": "code",
   "execution_count": 61,
   "metadata": {},
   "outputs": [],
   "source": [
    "def build_dataset(words, n_words):\n",
    "    word_counts = [['UNLNOWN', -1]]\n",
    "    \n",
    "    counter = collections.Counter(words)\n",
    "    word_counts.extend(counter.most_common(n_words - 1))\n",
    "    \n",
    "    dictionary = dict()\n",
    "    \n",
    "    for word, _ in word_counts:\n",
    "        dictionary[word] = len(dictionary)\n",
    "        \n",
    "    word_indexes = list()\n",
    "    \n",
    "    unknown_count = 0\n",
    "    for word in words:\n",
    "        if word in dictionary:\n",
    "            index = dictionary[word]\n",
    "        else:\n",
    "            index = 0 #dictionary['UNKNOWN']\n",
    "            unknown_count += 1;\n",
    "            \n",
    "        word_indexes.append(index)\n",
    "        \n",
    "    word_counts[0][1] = unknown_count\n",
    "    \n",
    "    reversed_dictionary = dict(zip(dictionary.values(), dictionary.keys()))\n",
    "\n",
    "    return word_counts, word_indexes, dictionary, reversed_dictionary"
   ]
  },
  {
   "cell_type": "code",
   "execution_count": 66,
   "metadata": {},
   "outputs": [],
   "source": [
    "VOCABULARY_SIZE = 5000\n",
    "\n",
    "word_counts, word_indexes, dictionary, reversed_dictionary = build_dataset(\n",
    "    vocabulary, VOCABULARY_SIZE)"
   ]
  },
  {
   "cell_type": "code",
   "execution_count": 67,
   "metadata": {},
   "outputs": [
    {
     "data": {
      "text/plain": [
       "[['UNLNOWN', 2735459],\n",
       " ('the', 1061396),\n",
       " ('of', 593677),\n",
       " ('and', 416629),\n",
       " ('one', 411764),\n",
       " ('in', 372201),\n",
       " ('a', 325873),\n",
       " ('to', 316376),\n",
       " ('zero', 264975),\n",
       " ('nine', 250430)]"
      ]
     },
     "execution_count": 67,
     "metadata": {},
     "output_type": "execute_result"
    }
   ],
   "source": [
    "word_counts[:10]"
   ]
  },
  {
   "cell_type": "code",
   "execution_count": 68,
   "metadata": {},
   "outputs": [
    {
     "data": {
      "text/plain": [
       "[0, 3081, 12, 6, 195, 2, 3134, 46, 59, 156]"
      ]
     },
     "execution_count": 68,
     "metadata": {},
     "output_type": "execute_result"
    }
   ],
   "source": [
    "word_indexes[:10]"
   ]
  },
  {
   "cell_type": "code",
   "execution_count": 73,
   "metadata": {},
   "outputs": [
    {
     "name": "stdout",
     "output_type": "stream",
     "text": [
      "greek : 321\n",
      "institutions : 1775\n",
      "annual : 1766\n",
      "who : 57\n",
      "claims : 904\n",
      "alternate : 2656\n",
      "largely : 824\n",
      "belgian : 3893\n",
      "managed : 2215\n",
      "technological : 4831\n"
     ]
    }
   ],
   "source": [
    "import random\n",
    "\n",
    "for key in random.sample(list(dictionary), 10):\n",
    "    print(key, \":\", dictionary[key])"
   ]
  },
  {
   "cell_type": "code",
   "execution_count": 77,
   "metadata": {},
   "outputs": [
    {
     "name": "stdout",
     "output_type": "stream",
     "text": [
      "476 : died\n",
      "2346 : colonial\n",
      "4310 : reject\n",
      "3871 : extend\n",
      "590 : our\n",
      "4275 : silent\n",
      "3561 : quantity\n",
      "3125 : angle\n",
      "2837 : heritage\n",
      "3418 : custom\n"
     ]
    }
   ],
   "source": [
    "import random\n",
    "\n",
    "for key in random.sample(list(reversed_dictionary), 10):\n",
    "    print(key, \":\", reversed_dictionary[key])"
   ]
  },
  {
   "cell_type": "code",
   "execution_count": 78,
   "metadata": {},
   "outputs": [],
   "source": [
    "del vocabulary"
   ]
  },
  {
   "cell_type": "code",
   "execution_count": 79,
   "metadata": {},
   "outputs": [],
   "source": [
    "#global index into words maintained across batches\n",
    "global_index = 0"
   ]
  },
  {
   "cell_type": "code",
   "execution_count": 80,
   "metadata": {},
   "outputs": [],
   "source": [
    "def generate_batch(word_indexes, batch_size, num_skips, skip_window):\n",
    "    global global_index\n",
    "    \n",
    "    assert batch_size % num_skips == 0\n",
    "    assert num_skips <= 2 * skip_window\n",
    "    \n",
    "    batch = np.ndarray(shape = (batch_size), dtype=np.int32)\n",
    "    labels = np.ndarray(shape = (batch_size, 1), dtype=np.int32)\n",
    "    \n",
    "    span = 2 * skip_window + 1 #[ skip_window input_word skip_window ]\n",
    "    \n",
    "    buffer = collections.deque(maxlen = span)\n",
    "    \n",
    "    for _ in range(span):\n",
    "        buffer.append(word_indexes[global_index])\n",
    "        global_index = (global_index + 1) % len(word_indexes)\n",
    "        \n",
    "    for i in range(batch_size // num_skips):\n",
    "        target = skip_window #input word at the center of the buffer\n",
    "        targets_to_avoid = [skip_window]\n",
    "        \n",
    "        for j in range(num_skips):\n",
    "            while target in targets_to_avoid:\n",
    "                target = random.randint(0, span - 1)\n",
    "                \n",
    "            targets_to_avoid.append(target)\n",
    "            \n",
    "            batch[i * num_skips + j] = buffer[skip_window]\n",
    "            labels[i * num_skips + j, 0] = buffer[target]\n",
    "            \n",
    "        buffer.append(word_indexes[global_index])\n",
    "        global_index = (global_index + 1) % len(word_indexes)\n",
    "        \n",
    "    global_index = (global_index + len(word_indexes) - span) % len(word_indexes)\n",
    "    \n",
    "    return batch, labels\n"
   ]
  },
  {
   "cell_type": "code",
   "execution_count": 81,
   "metadata": {},
   "outputs": [],
   "source": [
    "batch, labels = generate_batch(word_indexes, 10, 2, 5)"
   ]
  },
  {
   "cell_type": "code",
   "execution_count": 82,
   "metadata": {},
   "outputs": [
    {
     "data": {
      "text/plain": [
       "array([   2,    2, 3134, 3134,   46,   46,   59,   59,  156,  156],\n",
       "      dtype=int32)"
      ]
     },
     "execution_count": 82,
     "metadata": {},
     "output_type": "execute_result"
    }
   ],
   "source": [
    "batch"
   ]
  },
  {
   "cell_type": "code",
   "execution_count": 83,
   "metadata": {},
   "outputs": [
    {
     "data": {
      "text/plain": [
       "array([[3134],\n",
       "       [   6],\n",
       "       [ 156],\n",
       "       [   2],\n",
       "       [ 128],\n",
       "       [ 742],\n",
       "       [3134],\n",
       "       [ 477],\n",
       "       [ 134],\n",
       "       [ 742]], dtype=int32)"
      ]
     },
     "execution_count": 83,
     "metadata": {},
     "output_type": "execute_result"
    }
   ],
   "source": [
    "labels"
   ]
  },
  {
   "cell_type": "code",
   "execution_count": 84,
   "metadata": {},
   "outputs": [
    {
     "name": "stdout",
     "output_type": "stream",
     "text": [
      "of : abuse\n",
      "of : a\n",
      "abuse : against\n",
      "abuse : of\n",
      "first : early\n",
      "first : working\n",
      "used : abuse\n",
      "used : class\n",
      "against : including\n"
     ]
    }
   ],
   "source": [
    "for i in range(9):\n",
    "    print(reversed_dictionary[batch[i]], \":\", reversed_dictionary[labels[i][0]])"
   ]
  },
  {
   "cell_type": "code",
   "execution_count": 86,
   "metadata": {},
   "outputs": [],
   "source": [
    "global_index = 0"
   ]
  },
  {
   "cell_type": "code",
   "execution_count": 87,
   "metadata": {},
   "outputs": [],
   "source": [
    "valid_size = 16\n",
    "valid_window = 100\n",
    "\n",
    "valid_examples = np.random.choice(valid_window, valid_size, replace = False)"
   ]
  },
  {
   "cell_type": "code",
   "execution_count": 88,
   "metadata": {},
   "outputs": [],
   "source": [
    "batch_size = 128\n",
    "embedding_size = 50\n",
    "skip_window = 2\n",
    "num_skips = 2"
   ]
  },
  {
   "cell_type": "code",
   "execution_count": 95,
   "metadata": {},
   "outputs": [],
   "source": [
    "tf.compat.v1.reset_default_graph()\n",
    "tf.compat.v1.disable_eager_execution()\n",
    "\n",
    "train_inputs = tf.compat.v1.placeholder(tf.int32, shape = [batch_size])\n",
    "train_labels = tf.compat.v1.placeholder(tf.int32, shape = [batch_size, 1])"
   ]
  },
  {
   "cell_type": "code",
   "execution_count": 96,
   "metadata": {},
   "outputs": [],
   "source": [
    "valid_dataset = tf.constant(valid_examples, dtype=tf.int32)"
   ]
  },
  {
   "cell_type": "code",
   "execution_count": 99,
   "metadata": {},
   "outputs": [
    {
     "name": "stdout",
     "output_type": "stream",
     "text": [
      "WARNING:tensorflow:From /home/umesh/anaconda3/lib/python3.7/site-packages/tensorflow_core/python/ops/resource_variable_ops.py:1635: calling BaseResourceVariable.__init__ (from tensorflow.python.ops.resource_variable_ops) with constraint is deprecated and will be removed in a future version.\n",
      "Instructions for updating:\n",
      "If using Keras pass *_constraint arguments to layers.\n"
     ]
    }
   ],
   "source": [
    "embeddings = tf.Variable(\n",
    "    tf.compat.v1.random_uniform([VOCABULARY_SIZE, embedding_size], -1.0, 1.0))\n",
    "\n",
    "embed = tf.nn.embedding_lookup(embeddings, train_inputs)"
   ]
  },
  {
   "cell_type": "code",
   "execution_count": 100,
   "metadata": {},
   "outputs": [
    {
     "data": {
      "text/plain": [
       "<tf.Variable 'Variable:0' shape=(5000, 50) dtype=float32>"
      ]
     },
     "execution_count": 100,
     "metadata": {},
     "output_type": "execute_result"
    }
   ],
   "source": [
    "embeddings"
   ]
  },
  {
   "cell_type": "code",
   "execution_count": 101,
   "metadata": {},
   "outputs": [
    {
     "data": {
      "text/plain": [
       "<tf.Tensor 'embedding_lookup/Identity_1:0' shape=(128, 50) dtype=float32>"
      ]
     },
     "execution_count": 101,
     "metadata": {},
     "output_type": "execute_result"
    }
   ],
   "source": [
    "embed"
   ]
  },
  {
   "cell_type": "code",
   "execution_count": 104,
   "metadata": {},
   "outputs": [],
   "source": [
    "weights = tf.Variable(tf.compat.v1.truncated_normal([VOCABULARY_SIZE, embedding_size],\n",
    "                                         stddev = 1.0 / math.sqrt(embedding_size)))\n",
    "\n",
    "biases = tf.Variable(tf.zeros([VOCABULARY_SIZE]))\n",
    "\n",
    "hidden_out = tf.matmul(embed, tf.transpose(weights)) + biases\n"
   ]
  },
  {
   "cell_type": "code",
   "execution_count": 105,
   "metadata": {},
   "outputs": [
    {
     "data": {
      "text/plain": [
       "<tf.Tensor 'add:0' shape=(128, 5000) dtype=float32>"
      ]
     },
     "execution_count": 105,
     "metadata": {},
     "output_type": "execute_result"
    }
   ],
   "source": [
    "hidden_out"
   ]
  },
  {
   "cell_type": "code",
   "execution_count": 106,
   "metadata": {},
   "outputs": [],
   "source": [
    "train_one_hot =  tf.one_hot(train_labels, VOCABULARY_SIZE)\n",
    "\n",
    "loss = tf.reduce_mean(tf.nn.softmax_cross_entropy_with_logits(logits=hidden_out,\n",
    "                                                             labels = train_one_hot))"
   ]
  },
  {
   "cell_type": "code",
   "execution_count": 109,
   "metadata": {},
   "outputs": [],
   "source": [
    "optimizer = tf.compat.v1.train.GradientDescentOptimizer(0.1).minimize(loss)"
   ]
  },
  {
   "cell_type": "code",
   "execution_count": 113,
   "metadata": {},
   "outputs": [],
   "source": [
    "l2_norm = tf.sqrt(tf.reduce_sum(tf.square(embeddings), 1, True))\n",
    "\n",
    "normalized_embeddings = embeddings / l2_norm"
   ]
  },
  {
   "cell_type": "code",
   "execution_count": 114,
   "metadata": {},
   "outputs": [],
   "source": [
    "valid_embeddings = tf.nn.embedding_lookup(normalized_embeddings, valid_dataset)"
   ]
  },
  {
   "cell_type": "code",
   "execution_count": 115,
   "metadata": {},
   "outputs": [
    {
     "data": {
      "text/plain": [
       "<tf.Tensor 'embedding_lookup_1/Identity:0' shape=(16, 50) dtype=float32>"
      ]
     },
     "execution_count": 115,
     "metadata": {},
     "output_type": "execute_result"
    }
   ],
   "source": [
    "valid_embeddings"
   ]
  },
  {
   "cell_type": "code",
   "execution_count": 116,
   "metadata": {},
   "outputs": [
    {
     "data": {
      "text/plain": [
       "<tf.Tensor 'truediv_1:0' shape=(5000, 50) dtype=float32>"
      ]
     },
     "execution_count": 116,
     "metadata": {},
     "output_type": "execute_result"
    }
   ],
   "source": [
    "normalized_embeddings"
   ]
  },
  {
   "cell_type": "code",
   "execution_count": 118,
   "metadata": {},
   "outputs": [],
   "source": [
    "similarity = tf.matmul(valid_embeddings, normalized_embeddings, transpose_b=True)"
   ]
  },
  {
   "cell_type": "code",
   "execution_count": 122,
   "metadata": {},
   "outputs": [],
   "source": [
    "init = tf.compat.v1.global_variables_initializer()"
   ]
  },
  {
   "cell_type": "code",
   "execution_count": 124,
   "metadata": {},
   "outputs": [],
   "source": [
    "num_steps = 201"
   ]
  },
  {
   "cell_type": "code",
   "execution_count": 129,
   "metadata": {},
   "outputs": [
    {
     "name": "stdout",
     "output_type": "stream",
     "text": [
      "Nearest tp first: drive, various, parks, difference, recording, man, jersey, legend,\n",
      "Nearest tp all: conventional, expelled, mm, proclaimed, worlds, hollywood, bce, tissue,\n",
      "Nearest tp up: considerable, waste, principal, abilities, stations, nato, termed, f,\n",
      "Nearest tp from: funeral, eating, vessels, organization, arguably, luther, psychology, vs,\n",
      "Nearest tp if: will, could, arabs, official, aspects, result, contrast, m,\n",
      "Nearest tp have: sales, hundreds, reaching, continued, dollars, brian, spend, worth,\n",
      "Nearest tp can: phenomena, executive, model, tested, attorney, categories, identical, concepts,\n",
      "Nearest tp as: comment, dating, implemented, est, meaning, approaches, updated, apply,\n",
      "Nearest tp and: corner, individual, pro, actions, operator, mechanics, tales, directors,\n",
      "Nearest tp there: output, guitarist, below, spring, creature, hard, emphasis, corresponds,\n",
      "Nearest tp world: vowel, variation, percentage, ce, amounts, locally, administered, type,\n",
      "Nearest tp over: board, und, simply, observers, complicated, quotes, connection, held,\n",
      "Nearest tp after: isle, pakistan, verse, revealed, iso, organisms, dna, merchant,\n",
      "Nearest tp are: charter, israeli, exposure, christ, dc, down, losses, eating,\n",
      "Nearest tp who: finland, processes, j, secret, forcing, met, association, barrel,\n",
      "Nearest tp i: businesses, phoenix, artificial, missouri, twenty, despite, advertising, syria,\n",
      "\n",
      "\n",
      "Nearest tp first: drive, various, parks, difference, recording, man, jersey, legend,\n",
      "Nearest tp all: conventional, expelled, mm, proclaimed, worlds, hollywood, bce, tissue,\n",
      "Nearest tp up: considerable, waste, principal, abilities, stations, nato, termed, f,\n",
      "Nearest tp from: funeral, eating, vessels, organization, luther, arguably, psychology, vs,\n",
      "Nearest tp if: will, could, arabs, official, aspects, result, contrast, m,\n",
      "Nearest tp have: sales, hundreds, reaching, continued, dollars, brian, spend, scales,\n",
      "Nearest tp can: phenomena, executive, model, tested, attorney, categories, identical, concepts,\n",
      "Nearest tp as: comment, dating, implemented, est, meaning, approaches, updated, apply,\n",
      "Nearest tp and: corner, individual, pro, operator, actions, mechanics, tales, bearing,\n",
      "Nearest tp there: output, guitarist, below, spring, creature, hard, emphasis, corresponds,\n",
      "Nearest tp world: vowel, variation, percentage, ce, amounts, locally, administered, type,\n",
      "Nearest tp over: board, und, simply, observers, complicated, quotes, connection, held,\n",
      "Nearest tp after: isle, pakistan, verse, revealed, iso, organisms, dna, merchant,\n",
      "Nearest tp are: charter, israeli, exposure, christ, dc, down, losses, eating,\n",
      "Nearest tp who: finland, processes, j, secret, forcing, met, association, barrel,\n",
      "Nearest tp i: businesses, phoenix, artificial, missouri, twenty, despite, advertising, syria,\n",
      "\n",
      "\n",
      "Average_loss at step  200 : 0.8101497554779052\n",
      "Nearest tp first: drive, various, parks, difference, recording, man, jersey, legend,\n",
      "Nearest tp all: conventional, expelled, mm, proclaimed, worlds, hollywood, bce, tissue,\n",
      "Nearest tp up: considerable, waste, principal, abilities, stations, nato, termed, f,\n",
      "Nearest tp from: funeral, eating, vessels, organization, luther, arguably, psychology, vs,\n",
      "Nearest tp if: will, could, arabs, official, aspects, result, contrast, m,\n",
      "Nearest tp have: sales, hundreds, reaching, continued, dollars, brian, spend, scales,\n",
      "Nearest tp can: phenomena, executive, model, tested, attorney, categories, identical, concepts,\n",
      "Nearest tp as: comment, dating, implemented, est, meaning, approaches, updated, apply,\n",
      "Nearest tp and: corner, individual, operator, actions, pro, mechanics, tales, bearing,\n",
      "Nearest tp there: output, guitarist, below, spring, creature, hard, emphasis, corresponds,\n",
      "Nearest tp world: vowel, variation, percentage, ce, amounts, locally, administered, type,\n",
      "Nearest tp over: board, und, simply, observers, complicated, quotes, held, windows,\n",
      "Nearest tp after: isle, pakistan, verse, revealed, iso, organisms, dna, merchant,\n",
      "Nearest tp are: charter, israeli, christ, exposure, dc, down, losses, eating,\n",
      "Nearest tp who: finland, processes, j, secret, forcing, met, barrel, association,\n",
      "Nearest tp i: businesses, phoenix, artificial, missouri, twenty, despite, advertising, syria,\n",
      "\n",
      "\n",
      "Nearest tp first: drive, various, parks, difference, recording, man, jersey, engineers,\n",
      "Nearest tp all: conventional, expelled, mm, proclaimed, worlds, hollywood, bce, tissue,\n",
      "Nearest tp up: considerable, waste, principal, abilities, stations, nato, termed, f,\n",
      "Nearest tp from: funeral, eating, vessels, luther, organization, arguably, vs, psychology,\n",
      "Nearest tp if: will, could, arabs, official, aspects, result, contrast, m,\n",
      "Nearest tp have: sales, hundreds, reaching, continued, dollars, brian, spend, scales,\n",
      "Nearest tp can: phenomena, executive, model, tested, attorney, categories, identical, concepts,\n",
      "Nearest tp as: comment, implemented, dating, meaning, est, approaches, updated, apply,\n",
      "Nearest tp and: corner, individual, operator, actions, pro, mechanics, tales, bearing,\n",
      "Nearest tp there: output, guitarist, below, spring, creature, hard, emphasis, corresponds,\n",
      "Nearest tp world: vowel, variation, percentage, ce, amounts, locally, administered, type,\n",
      "Nearest tp over: board, und, simply, observers, complicated, quotes, windows, held,\n",
      "Nearest tp after: isle, pakistan, verse, revealed, iso, organisms, dna, merchant,\n",
      "Nearest tp are: charter, israeli, christ, exposure, dc, down, losses, eating,\n",
      "Nearest tp who: finland, processes, j, secret, forcing, met, barrel, association,\n",
      "Nearest tp i: businesses, phoenix, artificial, missouri, twenty, despite, advertising, syria,\n",
      "\n",
      "\n",
      "Average_loss at step  400 : 0.7411831750869751\n",
      "Nearest tp first: drive, various, parks, difference, recording, man, jersey, engineers,\n",
      "Nearest tp all: conventional, expelled, mm, proclaimed, worlds, hollywood, bce, tissue,\n",
      "Nearest tp up: considerable, waste, principal, abilities, stations, nato, termed, f,\n",
      "Nearest tp from: funeral, eating, vessels, luther, organization, arguably, vs, psychology,\n",
      "Nearest tp if: will, could, arabs, official, aspects, result, contrast, m,\n",
      "Nearest tp have: sales, hundreds, reaching, continued, dollars, brian, spend, scales,\n",
      "Nearest tp can: phenomena, executive, model, tested, attorney, categories, identical, concepts,\n",
      "Nearest tp as: comment, implemented, dating, meaning, est, approaches, updated, apply,\n",
      "Nearest tp and: corner, individual, operator, actions, pro, mechanics, tales, bearing,\n",
      "Nearest tp there: output, guitarist, below, spring, creature, hard, emphasis, corresponds,\n",
      "Nearest tp world: vowel, variation, percentage, ce, amounts, locally, administered, type,\n",
      "Nearest tp over: board, und, simply, observers, complicated, quotes, windows, held,\n",
      "Nearest tp after: isle, pakistan, verse, revealed, iso, organisms, dna, merchant,\n",
      "Nearest tp are: charter, israeli, christ, exposure, dc, down, losses, eating,\n",
      "Nearest tp who: finland, processes, j, secret, forcing, met, barrel, association,\n",
      "Nearest tp i: businesses, phoenix, artificial, twenty, missouri, despite, advertising, syria,\n",
      "\n",
      "\n",
      "Nearest tp first: drive, various, parks, difference, recording, man, jersey, engineers,\n",
      "Nearest tp all: conventional, expelled, mm, proclaimed, worlds, hollywood, bce, tissue,\n",
      "Nearest tp up: considerable, waste, principal, abilities, stations, nato, termed, f,\n",
      "Nearest tp from: funeral, eating, vessels, luther, organization, arguably, vs, psychology,\n",
      "Nearest tp if: will, could, arabs, official, aspects, result, contrast, m,\n",
      "Nearest tp have: sales, hundreds, reaching, continued, dollars, brian, spend, scales,\n",
      "Nearest tp can: phenomena, executive, model, tested, attorney, categories, identical, concepts,\n",
      "Nearest tp as: comment, implemented, dating, meaning, est, approaches, updated, apply,\n",
      "Nearest tp and: corner, individual, operator, actions, pro, mechanics, tales, bearing,\n",
      "Nearest tp there: output, guitarist, below, spring, creature, hard, emphasis, corresponds,\n",
      "Nearest tp world: vowel, variation, percentage, ce, amounts, locally, administered, type,\n",
      "Nearest tp over: board, und, simply, observers, complicated, quotes, windows, held,\n",
      "Nearest tp after: isle, pakistan, verse, revealed, iso, organisms, dna, merchant,\n",
      "Nearest tp are: charter, israeli, christ, exposure, dc, down, losses, eating,\n",
      "Nearest tp who: finland, processes, j, secret, forcing, met, barrel, association,\n",
      "Nearest tp i: businesses, phoenix, artificial, twenty, missouri, despite, advertising, syria,\n",
      "\n",
      "\n"
     ]
    },
    {
     "name": "stdout",
     "output_type": "stream",
     "text": [
      "Average_loss at step  600 : 0.7302287192344665\n",
      "Nearest tp first: drive, various, parks, difference, recording, man, jersey, engineers,\n",
      "Nearest tp all: conventional, mm, expelled, proclaimed, worlds, hollywood, bce, tissue,\n",
      "Nearest tp up: considerable, waste, principal, abilities, stations, nato, termed, f,\n",
      "Nearest tp from: funeral, eating, vessels, luther, organization, arguably, vs, psychology,\n",
      "Nearest tp if: will, could, arabs, official, aspects, result, contrast, m,\n",
      "Nearest tp have: sales, hundreds, reaching, continued, dollars, brian, spend, scales,\n",
      "Nearest tp can: phenomena, executive, model, tested, attorney, categories, identical, concepts,\n",
      "Nearest tp as: comment, implemented, dating, est, meaning, approaches, updated, apply,\n",
      "Nearest tp and: corner, individual, operator, actions, pro, mechanics, tales, bearing,\n",
      "Nearest tp there: output, guitarist, below, spring, creature, hard, emphasis, corresponds,\n",
      "Nearest tp world: vowel, variation, percentage, ce, amounts, locally, administered, type,\n",
      "Nearest tp over: board, und, simply, observers, complicated, quotes, windows, held,\n",
      "Nearest tp after: isle, pakistan, verse, revealed, iso, organisms, dna, merchant,\n",
      "Nearest tp are: charter, israeli, christ, exposure, dc, down, losses, eating,\n",
      "Nearest tp who: finland, processes, j, secret, forcing, met, barrel, association,\n",
      "Nearest tp i: businesses, phoenix, artificial, twenty, missouri, despite, advertising, syria,\n",
      "\n",
      "\n",
      "Nearest tp first: drive, various, parks, difference, recording, man, jersey, engineers,\n",
      "Nearest tp all: conventional, mm, expelled, proclaimed, worlds, hollywood, bce, tissue,\n",
      "Nearest tp up: considerable, waste, principal, abilities, stations, nato, termed, f,\n",
      "Nearest tp from: funeral, eating, vessels, luther, organization, arguably, vs, psychology,\n",
      "Nearest tp if: will, could, arabs, official, aspects, result, contrast, m,\n",
      "Nearest tp have: sales, reaching, hundreds, continued, dollars, spend, brian, scales,\n",
      "Nearest tp can: phenomena, executive, model, tested, attorney, categories, identical, concepts,\n",
      "Nearest tp as: comment, implemented, dating, est, meaning, approaches, updated, apply,\n",
      "Nearest tp and: corner, individual, operator, actions, pro, mechanics, tales, directors,\n",
      "Nearest tp there: output, guitarist, below, spring, creature, hard, emphasis, corresponds,\n",
      "Nearest tp world: vowel, variation, percentage, ce, amounts, locally, administered, type,\n",
      "Nearest tp over: board, und, simply, observers, complicated, quotes, windows, held,\n",
      "Nearest tp after: isle, pakistan, verse, revealed, iso, organisms, dna, merchant,\n",
      "Nearest tp are: charter, israeli, christ, exposure, dc, down, losses, eating,\n",
      "Nearest tp who: finland, processes, j, forcing, secret, met, barrel, association,\n",
      "Nearest tp i: businesses, phoenix, artificial, twenty, missouri, despite, advertising, syria,\n",
      "\n",
      "\n",
      "Average_loss at step  800 : 0.6979063856601715\n",
      "Nearest tp first: drive, various, parks, difference, recording, man, jersey, engineers,\n",
      "Nearest tp all: conventional, mm, expelled, proclaimed, worlds, hollywood, bce, tissue,\n",
      "Nearest tp up: considerable, waste, principal, abilities, stations, nato, termed, f,\n",
      "Nearest tp from: funeral, eating, vessels, luther, organization, arguably, vs, psychology,\n",
      "Nearest tp if: will, could, arabs, official, aspects, result, contrast, m,\n",
      "Nearest tp have: sales, reaching, hundreds, continued, dollars, spend, brian, scales,\n",
      "Nearest tp can: phenomena, executive, model, tested, attorney, categories, identical, concepts,\n",
      "Nearest tp as: comment, implemented, dating, est, meaning, approaches, updated, apply,\n",
      "Nearest tp and: corner, individual, operator, actions, pro, mechanics, directors, taylor,\n",
      "Nearest tp there: output, guitarist, below, spring, creature, hard, emphasis, corresponds,\n",
      "Nearest tp world: vowel, variation, percentage, ce, amounts, locally, administered, type,\n",
      "Nearest tp over: board, und, simply, observers, complicated, quotes, windows, held,\n",
      "Nearest tp after: isle, pakistan, verse, revealed, iso, organisms, dna, merchant,\n",
      "Nearest tp are: charter, israeli, exposure, christ, dc, down, losses, eating,\n",
      "Nearest tp who: finland, processes, j, forcing, secret, met, barrel, association,\n",
      "Nearest tp i: businesses, phoenix, artificial, twenty, missouri, despite, advertising, syria,\n",
      "\n",
      "\n",
      "Nearest tp first: drive, various, parks, difference, recording, jersey, man, engineers,\n",
      "Nearest tp all: conventional, mm, expelled, proclaimed, worlds, hollywood, bce, tissue,\n",
      "Nearest tp up: considerable, waste, principal, abilities, stations, nato, termed, f,\n",
      "Nearest tp from: funeral, eating, vessels, luther, organization, arguably, vs, psychology,\n",
      "Nearest tp if: will, could, arabs, official, aspects, result, contrast, m,\n",
      "Nearest tp have: sales, reaching, hundreds, continued, dollars, spend, brian, scales,\n",
      "Nearest tp can: phenomena, executive, model, tested, attorney, categories, identical, concepts,\n",
      "Nearest tp as: comment, implemented, dating, est, meaning, approaches, updated, apply,\n",
      "Nearest tp and: corner, individual, operator, actions, pro, mechanics, taylor, directors,\n",
      "Nearest tp there: output, guitarist, below, spring, creature, hard, emphasis, corresponds,\n",
      "Nearest tp world: vowel, variation, percentage, ce, amounts, locally, administered, type,\n",
      "Nearest tp over: board, und, simply, observers, complicated, quotes, windows, held,\n",
      "Nearest tp after: isle, pakistan, verse, revealed, iso, organisms, dna, merchant,\n",
      "Nearest tp are: charter, israeli, exposure, christ, dc, down, losses, eating,\n",
      "Nearest tp who: finland, processes, j, forcing, secret, met, barrel, association,\n",
      "Nearest tp i: businesses, phoenix, artificial, twenty, missouri, despite, advertising, syria,\n",
      "\n",
      "\n",
      "Average_loss at step  1000 : 0.6473449485301972\n",
      "Nearest tp first: drive, various, parks, difference, recording, man, jersey, engineers,\n",
      "Nearest tp all: conventional, mm, expelled, proclaimed, worlds, hollywood, bce, tissue,\n",
      "Nearest tp up: considerable, waste, principal, abilities, stations, nato, termed, f,\n",
      "Nearest tp from: funeral, eating, vessels, luther, organization, arguably, vs, psychology,\n",
      "Nearest tp if: will, could, arabs, official, aspects, result, contrast, m,\n",
      "Nearest tp have: sales, reaching, hundreds, continued, dollars, spend, brian, scales,\n",
      "Nearest tp can: phenomena, executive, model, tested, attorney, categories, identical, concepts,\n",
      "Nearest tp as: comment, implemented, dating, meaning, est, approaches, updated, apply,\n",
      "Nearest tp and: corner, individual, operator, actions, pro, mechanics, taylor, scientific,\n",
      "Nearest tp there: output, guitarist, below, spring, creature, hard, emphasis, corresponds,\n",
      "Nearest tp world: vowel, variation, percentage, ce, amounts, locally, type, administered,\n",
      "Nearest tp over: board, und, simply, observers, complicated, quotes, windows, held,\n",
      "Nearest tp after: isle, pakistan, verse, revealed, iso, organisms, dna, merchant,\n",
      "Nearest tp are: charter, israeli, exposure, christ, dc, down, losses, eating,\n",
      "Nearest tp who: finland, processes, j, forcing, secret, met, barrel, association,\n",
      "Nearest tp i: businesses, phoenix, artificial, twenty, missouri, despite, advertising, syria,\n",
      "\n",
      "\n",
      "Nearest tp first: drive, various, parks, difference, recording, man, jersey, engineers,\n",
      "Nearest tp all: conventional, mm, expelled, proclaimed, worlds, hollywood, bce, tissue,\n",
      "Nearest tp up: considerable, waste, principal, abilities, stations, nato, termed, f,\n",
      "Nearest tp from: funeral, eating, vessels, luther, organization, vs, arguably, psychology,\n",
      "Nearest tp if: will, could, arabs, official, aspects, result, contrast, m,\n",
      "Nearest tp have: sales, reaching, hundreds, continued, dollars, spend, brian, scales,\n",
      "Nearest tp can: phenomena, executive, model, tested, attorney, categories, identical, concepts,\n",
      "Nearest tp as: comment, implemented, dating, est, meaning, approaches, updated, apply,\n",
      "Nearest tp and: corner, individual, operator, actions, pro, mechanics, taylor, scientific,\n",
      "Nearest tp there: output, guitarist, below, spring, creature, hard, emphasis, corresponds,\n",
      "Nearest tp world: vowel, variation, percentage, ce, amounts, locally, type, administered,\n",
      "Nearest tp over: board, und, simply, observers, complicated, quotes, windows, held,\n",
      "Nearest tp after: isle, pakistan, verse, revealed, iso, organisms, dna, merchant,\n",
      "Nearest tp are: charter, israeli, exposure, christ, dc, down, losses, eating,\n",
      "Nearest tp who: finland, processes, j, forcing, secret, met, barrel, association,\n",
      "Nearest tp i: businesses, phoenix, artificial, twenty, missouri, despite, advertising, syria,\n",
      "\n",
      "\n"
     ]
    },
    {
     "name": "stdout",
     "output_type": "stream",
     "text": [
      "Average_loss at step  1200 : 0.68186017537117\n",
      "Nearest tp first: drive, various, parks, difference, recording, man, jersey, engineers,\n",
      "Nearest tp all: conventional, mm, proclaimed, expelled, worlds, hollywood, bce, tissue,\n",
      "Nearest tp up: considerable, waste, principal, abilities, stations, nato, termed, f,\n",
      "Nearest tp from: funeral, eating, vessels, luther, organization, vs, arguably, psychology,\n",
      "Nearest tp if: will, could, arabs, official, aspects, result, contrast, m,\n",
      "Nearest tp have: sales, reaching, hundreds, continued, dollars, spend, brian, scales,\n",
      "Nearest tp can: phenomena, executive, model, tested, attorney, categories, identical, concepts,\n",
      "Nearest tp as: comment, implemented, dating, est, meaning, approaches, updated, apply,\n",
      "Nearest tp and: corner, individual, operator, actions, pro, mechanics, scientific, taylor,\n",
      "Nearest tp there: output, guitarist, below, spring, creature, hard, emphasis, corresponds,\n",
      "Nearest tp world: vowel, variation, percentage, ce, amounts, locally, type, administered,\n",
      "Nearest tp over: board, und, simply, observers, complicated, quotes, windows, held,\n",
      "Nearest tp after: isle, pakistan, verse, revealed, iso, organisms, dna, merchant,\n",
      "Nearest tp are: charter, israeli, christ, exposure, dc, down, losses, eating,\n",
      "Nearest tp who: finland, processes, j, forcing, secret, met, barrel, association,\n",
      "Nearest tp i: businesses, phoenix, artificial, twenty, missouri, despite, advertising, syria,\n",
      "\n",
      "\n",
      "Nearest tp first: drive, various, parks, difference, recording, man, jersey, engineers,\n",
      "Nearest tp all: conventional, mm, proclaimed, expelled, worlds, hollywood, bce, tissue,\n",
      "Nearest tp up: considerable, waste, principal, abilities, stations, nato, termed, f,\n",
      "Nearest tp from: funeral, eating, vessels, luther, vs, organization, arguably, psychology,\n",
      "Nearest tp if: will, could, arabs, official, aspects, result, contrast, m,\n",
      "Nearest tp have: sales, reaching, hundreds, continued, dollars, spend, brian, scales,\n",
      "Nearest tp can: phenomena, executive, model, tested, attorney, categories, identical, concepts,\n",
      "Nearest tp as: comment, implemented, dating, est, meaning, approaches, updated, agencies,\n",
      "Nearest tp and: corner, individual, operator, actions, mechanics, pro, scientific, taylor,\n",
      "Nearest tp there: output, guitarist, below, spring, creature, hard, emphasis, corresponds,\n",
      "Nearest tp world: vowel, variation, percentage, ce, amounts, locally, type, administered,\n",
      "Nearest tp over: board, und, simply, observers, complicated, quotes, windows, held,\n",
      "Nearest tp after: isle, pakistan, verse, revealed, iso, organisms, dna, merchant,\n",
      "Nearest tp are: charter, israeli, christ, exposure, dc, down, losses, eating,\n",
      "Nearest tp who: finland, processes, j, forcing, secret, met, barrel, association,\n",
      "Nearest tp i: businesses, phoenix, artificial, twenty, missouri, despite, advertising, syria,\n",
      "\n",
      "\n",
      "Average_loss at step  1400 : 0.6568544929027558\n",
      "Nearest tp first: drive, various, parks, difference, recording, man, jersey, engineers,\n",
      "Nearest tp all: conventional, mm, proclaimed, expelled, worlds, hollywood, bce, tissue,\n",
      "Nearest tp up: considerable, waste, principal, abilities, stations, nato, termed, f,\n",
      "Nearest tp from: funeral, eating, vessels, luther, vs, organization, arguably, psychology,\n",
      "Nearest tp if: will, could, arabs, official, aspects, result, contrast, m,\n",
      "Nearest tp have: sales, reaching, hundreds, continued, dollars, spend, brian, scales,\n",
      "Nearest tp can: phenomena, executive, model, tested, attorney, categories, identical, concepts,\n",
      "Nearest tp as: comment, implemented, dating, meaning, est, approaches, updated, agencies,\n",
      "Nearest tp and: corner, individual, operator, actions, mechanics, pro, scientific, taylor,\n",
      "Nearest tp there: output, guitarist, below, spring, creature, hard, emphasis, corresponds,\n",
      "Nearest tp world: vowel, variation, percentage, ce, amounts, locally, type, administered,\n",
      "Nearest tp over: board, und, simply, observers, complicated, quotes, windows, held,\n",
      "Nearest tp after: isle, pakistan, verse, revealed, iso, organisms, dna, merchant,\n",
      "Nearest tp are: charter, israeli, christ, exposure, dc, down, losses, eating,\n",
      "Nearest tp who: finland, processes, j, forcing, secret, met, barrel, association,\n",
      "Nearest tp i: businesses, phoenix, artificial, twenty, missouri, despite, advertising, syria,\n",
      "\n",
      "\n",
      "Nearest tp first: drive, various, parks, difference, recording, jersey, man, engineers,\n",
      "Nearest tp all: conventional, mm, proclaimed, expelled, worlds, hollywood, bce, tissue,\n",
      "Nearest tp up: considerable, waste, principal, abilities, stations, nato, termed, f,\n",
      "Nearest tp from: funeral, eating, vessels, luther, vs, organization, arguably, psychology,\n",
      "Nearest tp if: will, could, arabs, official, aspects, result, contrast, m,\n",
      "Nearest tp have: sales, reaching, hundreds, continued, dollars, spend, brian, scales,\n",
      "Nearest tp can: phenomena, executive, model, tested, attorney, categories, identical, concepts,\n",
      "Nearest tp as: comment, implemented, dating, meaning, est, approaches, updated, agencies,\n",
      "Nearest tp and: corner, individual, operator, actions, mechanics, pro, scientific, taylor,\n",
      "Nearest tp there: output, guitarist, below, spring, creature, hard, emphasis, corresponds,\n",
      "Nearest tp world: vowel, variation, percentage, ce, amounts, locally, type, administered,\n",
      "Nearest tp over: board, und, simply, observers, complicated, quotes, windows, held,\n",
      "Nearest tp after: isle, pakistan, verse, revealed, iso, organisms, dna, merchant,\n",
      "Nearest tp are: charter, israeli, christ, exposure, dc, down, losses, eating,\n",
      "Nearest tp who: finland, processes, j, forcing, secret, met, barrel, association,\n",
      "Nearest tp i: businesses, phoenix, artificial, twenty, missouri, despite, advertising, syria,\n",
      "\n",
      "\n",
      "Average_loss at step  1600 : 0.6626486155986786\n",
      "Nearest tp first: drive, various, parks, difference, recording, jersey, man, engineers,\n",
      "Nearest tp all: conventional, mm, proclaimed, expelled, worlds, hollywood, bce, tissue,\n",
      "Nearest tp up: considerable, waste, principal, abilities, stations, nato, termed, f,\n",
      "Nearest tp from: funeral, eating, vessels, luther, vs, organization, arguably, psychology,\n",
      "Nearest tp if: will, could, arabs, official, aspects, result, contrast, m,\n",
      "Nearest tp have: sales, reaching, hundreds, continued, dollars, spend, scales, brian,\n",
      "Nearest tp can: phenomena, executive, model, tested, attorney, categories, identical, concepts,\n",
      "Nearest tp as: comment, implemented, dating, meaning, est, approaches, updated, agencies,\n",
      "Nearest tp and: corner, individual, operator, actions, mechanics, pro, scientific, taylor,\n",
      "Nearest tp there: output, guitarist, below, spring, creature, hard, emphasis, corresponds,\n",
      "Nearest tp world: vowel, variation, percentage, ce, amounts, locally, type, administered,\n",
      "Nearest tp over: board, und, simply, observers, complicated, quotes, windows, held,\n",
      "Nearest tp after: isle, pakistan, verse, revealed, iso, organisms, dna, merchant,\n",
      "Nearest tp are: charter, israeli, christ, exposure, dc, down, losses, eating,\n",
      "Nearest tp who: finland, processes, j, forcing, secret, met, barrel, association,\n",
      "Nearest tp i: businesses, phoenix, artificial, twenty, missouri, despite, advertising, syria,\n",
      "\n",
      "\n",
      "Nearest tp first: drive, various, parks, difference, recording, jersey, man, engineers,\n",
      "Nearest tp all: conventional, mm, proclaimed, expelled, worlds, hollywood, bce, tissue,\n",
      "Nearest tp up: considerable, waste, principal, abilities, stations, nato, termed, f,\n",
      "Nearest tp from: funeral, eating, vessels, luther, vs, organization, arguably, psychology,\n",
      "Nearest tp if: will, could, arabs, official, aspects, result, contrast, m,\n",
      "Nearest tp have: sales, reaching, hundreds, continued, dollars, spend, scales, brian,\n",
      "Nearest tp can: phenomena, executive, model, tested, attorney, categories, identical, concepts,\n",
      "Nearest tp as: comment, implemented, dating, meaning, est, approaches, updated, agencies,\n",
      "Nearest tp and: corner, individual, operator, actions, mechanics, pro, scientific, taylor,\n",
      "Nearest tp there: output, guitarist, below, spring, creature, hard, emphasis, corresponds,\n",
      "Nearest tp world: vowel, variation, percentage, ce, amounts, locally, type, marie,\n",
      "Nearest tp over: board, und, simply, observers, complicated, quotes, windows, held,\n",
      "Nearest tp after: isle, pakistan, verse, revealed, iso, organisms, dna, merchant,\n",
      "Nearest tp are: charter, israeli, christ, exposure, dc, down, losses, eating,\n",
      "Nearest tp who: finland, processes, j, forcing, secret, met, barrel, association,\n",
      "Nearest tp i: businesses, phoenix, artificial, twenty, missouri, despite, advertising, syria,\n",
      "\n",
      "\n"
     ]
    },
    {
     "name": "stdout",
     "output_type": "stream",
     "text": [
      "Average_loss at step  1800 : 0.6491164963245392\n",
      "Nearest tp first: drive, various, parks, difference, recording, jersey, man, engineers,\n",
      "Nearest tp all: conventional, mm, proclaimed, expelled, worlds, hollywood, bce, tissue,\n",
      "Nearest tp up: considerable, waste, principal, abilities, stations, nato, termed, f,\n",
      "Nearest tp from: funeral, eating, vessels, luther, vs, organization, arguably, psychology,\n",
      "Nearest tp if: will, could, arabs, official, aspects, result, contrast, m,\n",
      "Nearest tp have: sales, reaching, hundreds, continued, dollars, spend, scales, brian,\n",
      "Nearest tp can: phenomena, executive, model, tested, attorney, categories, identical, concepts,\n",
      "Nearest tp as: comment, implemented, dating, meaning, est, approaches, updated, increased,\n",
      "Nearest tp and: corner, individual, operator, actions, mechanics, pro, scientific, taylor,\n",
      "Nearest tp there: output, guitarist, below, spring, creature, hard, emphasis, corresponds,\n",
      "Nearest tp world: vowel, variation, percentage, ce, amounts, locally, type, marie,\n",
      "Nearest tp over: board, und, simply, observers, complicated, quotes, windows, held,\n",
      "Nearest tp after: isle, pakistan, verse, revealed, iso, organisms, dna, merchant,\n",
      "Nearest tp are: charter, israeli, christ, exposure, dc, down, losses, eating,\n",
      "Nearest tp who: finland, processes, j, forcing, secret, met, barrel, association,\n",
      "Nearest tp i: businesses, phoenix, artificial, twenty, missouri, despite, advertising, syria,\n",
      "\n",
      "\n",
      "Nearest tp first: drive, various, parks, difference, recording, man, jersey, engineers,\n",
      "Nearest tp all: conventional, mm, proclaimed, expelled, worlds, hollywood, bce, tissue,\n",
      "Nearest tp up: considerable, waste, principal, abilities, stations, nato, termed, f,\n",
      "Nearest tp from: funeral, eating, vessels, vs, luther, organization, psychology, arguably,\n",
      "Nearest tp if: will, could, arabs, official, aspects, result, contrast, m,\n",
      "Nearest tp have: sales, reaching, hundreds, continued, dollars, spend, scales, brian,\n",
      "Nearest tp can: phenomena, executive, model, tested, attorney, categories, identical, concepts,\n",
      "Nearest tp as: comment, implemented, dating, meaning, est, approaches, updated, increased,\n",
      "Nearest tp and: corner, individual, operator, actions, mechanics, scientific, pro, taylor,\n",
      "Nearest tp there: output, guitarist, below, spring, creature, hard, emphasis, corresponds,\n",
      "Nearest tp world: vowel, variation, percentage, ce, amounts, locally, type, marie,\n",
      "Nearest tp over: board, und, simply, observers, complicated, quotes, windows, held,\n",
      "Nearest tp after: isle, pakistan, verse, revealed, iso, organisms, dna, merchant,\n",
      "Nearest tp are: charter, israeli, christ, exposure, dc, down, losses, eating,\n",
      "Nearest tp who: finland, processes, j, forcing, secret, met, barrel, association,\n",
      "Nearest tp i: businesses, phoenix, artificial, twenty, missouri, despite, advertising, syria,\n",
      "\n",
      "\n",
      "Average_loss at step  2000 : 0.6389195176362992\n",
      "Nearest tp first: drive, various, parks, difference, recording, man, jersey, engineers,\n",
      "Nearest tp all: conventional, mm, proclaimed, expelled, worlds, hollywood, bce, tissue,\n",
      "Nearest tp up: considerable, waste, principal, abilities, stations, nato, termed, f,\n",
      "Nearest tp from: funeral, eating, vessels, vs, luther, organization, arguably, psychology,\n",
      "Nearest tp if: will, could, arabs, official, aspects, result, contrast, m,\n",
      "Nearest tp have: sales, reaching, hundreds, continued, dollars, spend, scales, brian,\n",
      "Nearest tp can: phenomena, executive, model, tested, attorney, categories, identical, concepts,\n",
      "Nearest tp as: comment, implemented, dating, meaning, est, approaches, updated, increased,\n",
      "Nearest tp and: corner, individual, operator, actions, mechanics, scientific, pro, taylor,\n",
      "Nearest tp there: output, guitarist, below, spring, creature, hard, emphasis, corresponds,\n",
      "Nearest tp world: vowel, variation, percentage, ce, amounts, locally, type, marie,\n",
      "Nearest tp over: board, und, simply, observers, complicated, quotes, windows, held,\n",
      "Nearest tp after: isle, pakistan, verse, revealed, iso, dna, organisms, merchant,\n",
      "Nearest tp are: charter, israeli, christ, exposure, dc, down, losses, eating,\n",
      "Nearest tp who: finland, processes, j, forcing, secret, met, barrel, association,\n",
      "Nearest tp i: businesses, phoenix, artificial, twenty, missouri, despite, advertising, syria,\n",
      "\n",
      "\n"
     ]
    }
   ],
   "source": [
    "with tf.compat.v1.Session() as session:\n",
    "    init.run()\n",
    "    \n",
    "    average_loss = 0\n",
    "    for step in xrange(num_steps):\n",
    "        batch_inputs, batch_labels = generate_batch(\n",
    "        word_indexes, batch_size, num_skips, skip_window)\n",
    "        \n",
    "        feed_dict = {train_inputs: batch_inputs, train_labels: batch_labels}\n",
    "        \n",
    "        _, loss_val = session.run([optimizer, loss], feed_dict)\n",
    "        average_loss += loss_val\n",
    "        \n",
    "        if step % 200 == 0:\n",
    "            if step > 0:\n",
    "                average_loss /= 2000\n",
    "                \n",
    "                print('Average_loss at step ', step, ':', average_loss)\n",
    "                average_loss = 0\n",
    "                    \n",
    "        if step % 100 == 0:\n",
    "            sim = similarity.eval()\n",
    "        \n",
    "            for i in xrange(valid_size):\n",
    "                valid_word = reversed_dictionary[valid_examples[i]]\n",
    "                top_k = 8\n",
    "                \n",
    "                nearest = (-sim[i, :]).argsort()[1:top_k + 1]\n",
    "                log_str = 'Nearest tp %s:' % valid_word\n",
    "                \n",
    "                for k in xrange(top_k):\n",
    "                    close_word = reversed_dictionary[nearest[k]]\n",
    "                    log_str = '%s %s,' % (log_str, close_word)\n",
    "                print(log_str)\n",
    "                \n",
    "            print(\"\\n\")\n",
    "            "
   ]
  },
  {
   "cell_type": "code",
   "execution_count": null,
   "metadata": {},
   "outputs": [],
   "source": []
  }
 ],
 "metadata": {
  "kernelspec": {
   "display_name": "Python 3",
   "language": "python",
   "name": "python3"
  },
  "language_info": {
   "codemirror_mode": {
    "name": "ipython",
    "version": 3
   },
   "file_extension": ".py",
   "mimetype": "text/x-python",
   "name": "python",
   "nbconvert_exporter": "python",
   "pygments_lexer": "ipython3",
   "version": "3.7.6"
  }
 },
 "nbformat": 4,
 "nbformat_minor": 4
}
